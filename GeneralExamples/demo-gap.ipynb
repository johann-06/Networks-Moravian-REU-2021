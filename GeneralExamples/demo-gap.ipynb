{
 "cells": [
  {
   "cell_type": "code",
   "execution_count": 14,
   "metadata": {
    "collapsed": false
   },
   "outputs": [
    {
     "name": "stdout",
     "output_type": "stream",
     "text": [
      "Alt( [ 1 .. 6 ] )"
     ]
    }
   ],
   "source": [
    "G := AlternatingGroup(6);"
   ]
  },
  {
   "cell_type": "code",
   "execution_count": 15,
   "metadata": {
    "collapsed": false
   },
   "outputs": [
    {
     "data": {
      "text/html": [
       "Reference: <a target=\"_blank\" href=\"https://cloud.gap-system.org/doc/ref/chap40.html#X87677B0787B4461A\">AutomorphismGroup</a><br/>Reference: <a target=\"_blank\" href=\"https://cloud.gap-system.org/doc/ref/chap45.html#X7A19DF1E7E841074\">AutomorphismGroup for groups with pcgs</a><br/>"
      ]
     },
     "metadata": {},
     "output_type": "display_data"
    },
    {
     "name": "stdout",
     "output_type": "stream",
     "text": []
    }
   ],
   "source": [
    "?AutomorphismGroup"
   ]
  },
  {
   "cell_type": "code",
   "execution_count": 16,
   "metadata": {
    "collapsed": false
   },
   "outputs": [
    {
     "name": "stdout",
     "output_type": "stream",
     "text": [
      "<group with 4 generators>"
     ]
    }
   ],
   "source": [
    "a := AutomorphismGroup(G);"
   ]
  },
  {
   "cell_type": "code",
   "execution_count": 17,
   "metadata": {
    "collapsed": false
   },
   "outputs": [
    {
     "name": "stdout",
     "output_type": "stream",
     "text": [
      "<group>"
     ]
    }
   ],
   "source": [
    "SylowSubgroup(a,2);"
   ]
  },
  {
   "cell_type": "code",
   "execution_count": 18,
   "metadata": {
    "collapsed": false
   },
   "outputs": [
    {
     "name": "stdout",
     "output_type": "stream",
     "text": [
      "<group>"
     ]
    }
   ],
   "source": [
    "s := SylowSubgroup(a,2);"
   ]
  },
  {
   "cell_type": "code",
   "execution_count": 19,
   "metadata": {
    "collapsed": false
   },
   "outputs": [
    {
     "name": "stdout",
     "output_type": "stream",
     "text": [
      "32"
     ]
    }
   ],
   "source": [
    "Order(s);"
   ]
  },
  {
   "cell_type": "code",
   "execution_count": 20,
   "metadata": {
    "collapsed": false
   },
   "outputs": [
    {
     "name": "stdout",
     "output_type": "stream",
     "text": [
      "[ 32, 43 ]"
     ]
    }
   ],
   "source": [
    "IdGroup(s);"
   ]
  },
  {
   "cell_type": "code",
   "execution_count": 21,
   "metadata": {
    "collapsed": false
   },
   "outputs": [
    {
     "name": "stdout",
     "output_type": "stream",
     "text": [
      "[ 32, 4, 2, 1 ]"
     ]
    }
   ],
   "source": [
    "List(LowerCentralSeries(s), Order);"
   ]
  },
  {
   "cell_type": "code",
   "execution_count": null,
   "metadata": {
    "collapsed": false
   },
   "outputs": [],
   "source": []
  },
  {
   "cell_type": "code",
   "execution_count": null,
   "metadata": {
    "collapsed": true
   },
   "outputs": [],
   "source": []
  }
 ],
 "metadata": {
  "kernelspec": {
   "display_name": "GAP",
   "language": "gap",
   "name": "gap"
  },
  "language_info": {
   "codemirror_mode": "gap",
   "file_extension": ".g",
   "mimetype": "text/x-gap",
   "name": "gap"
  }
 },
 "nbformat": 4,
 "nbformat_minor": 2
}
